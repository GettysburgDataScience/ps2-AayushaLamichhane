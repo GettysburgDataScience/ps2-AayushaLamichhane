{
 "cells": [
  {
   "cell_type": "markdown",
   "metadata": {},
   "source": [
    "Aayusha Lamichhane\n",
    " - Megha Shakya"
   ]
  },
  {
   "cell_type": "markdown",
   "metadata": {},
   "source": [
    "DS325, Gettysburg College, Professor Eatai Roth\n",
    "# Problem Set 2 - Classification\n",
    "\n",
    "Due Friday Mar 28, 2025 4p\n",
    "\n",
    "Total pts: 30\n",
    "\n",
    "## IMPORTANT INSTRUCTIONS:\n",
    "\n",
    " - When you submit your code, make sure that every cell runs without returning an error.\n",
    " - Once you have the results you need, edit out any extraneous code and outputs.\n",
    " - *Do not rewrite code* if it doesn't need to be rewritten. For example, all the import statements you should need are in the first code block. Do not redo those in your analysis."
   ]
  },
  {
   "cell_type": "markdown",
   "metadata": {},
   "source": [
    "## Problem 1\n",
    "\n",
    "In this problem, you'll be comparing Logistic Regression, Decision Trees, and Random Forests in a task identifying mushrooms as edible or poisonous.\n",
    "The data is imported below and the features and feature values are listed. Notice, they're all letters.\n",
    "\n",
    " - Split the data into targets and features\n",
    " - Decide which features are ordinal or categorical. Refer to the feature descriptions on the [UCI Machine Learning site](https://archive.ics.uci.edu/dataset/73/mushroom) (hint: at least 3 categories are ordinal and others are binary...so you'll use an ordinal encoder)\n",
    " - Encode the features\n",
    " - Train the three models. You will want to use ```LogisticRegressionCV``` and ```GridSearchCV``` to find the best version of each model.\n",
    " - Make predictions with your models.\n",
    " - Show the confusion matrices for each type of model evaluated on the same test set. Label each figure clearly as to which model it is.\n",
    " "
   ]
  },
  {
   "cell_type": "code",
   "execution_count": null,
   "metadata": {},
   "outputs": [],
   "source": [
    "import pandas as pd\n",
    "mushrooms_df = pd.read_csv('https://raw.githubusercontent.com/stedy/Machine-Learning-with-R-datasets/refs/heads/master/mushrooms.csv')\n",
    "\n",
    "for k, col in enumerate(mushrooms_df.columns):\n",
    "    print(f'{k:>3}. {col} - {mushrooms_df[col].unique()}')"
   ]
  },
  {
   "cell_type": "code",
   "execution_count": 49,
   "metadata": {},
   "outputs": [],
   "source": [
    "from sklearn.preprocessing import StandardScaler\n",
    "from sklearn.preprocessing import OrdinalEncoder, OneHotEncoder, LabelEncoder\n",
    "from sklearn.compose import ColumnTransformer\n",
    "from sklearn.tree import DecisionTreeClassifier, plot_tree\n",
    "from sklearn.model_selection import train_test_split\n",
    "from sklearn.linear_model import LogisticRegressionCV\n",
    "from sklearn.metrics import ConfusionMatrixDisplay, accuracy_score, confusion_matrix, recall_score, precision_score\n",
    "from sklearn.model_selection import GridSearchCV\n",
    "from sklearn.ensemble import RandomForestClassifier\n",
    "import matplotlib.pyplot as plt\n",
    "\n",
    "\n",
    "\n",
    "# X and y \n",
    "y = mushrooms_df['type']  # 'e' or 'p'\n",
    "X = mushrooms_df.drop(columns='type')\n",
    "\n",
    "# Separate the data into categorical and ordinal data\n",
    "ord_features = ['gill_spacing', 'gill_size', 'ring_number', 'population', 'bruises', 'stalk_shape', 'gill_attachment'] # ordinal data\n",
    "cat_features = [col for col in X.columns if col not in ord_features] # categorical data\n",
    "\n",
    "# Encoding features\n",
    "ordEnc = OrdinalEncoder(categories = [['c', 'w', 'd'], ['b', 'n'], ['n', 'o', 't'], ['a', 'c', 'n', 's', 'v', 'y'], ['t', 'f'], ['e', 't'], ['f', 'a']]) # do it\n",
    "oneHotEnc = OneHotEncoder(sparse_output=False)\n",
    "\n",
    "# This below section tells Python how to convert each type of feature into numbers before feeding them to your models\n",
    "ct = ColumnTransformer([('ord', ordEnc, ord_features),\n",
    "    ('cat', oneHotEnc, cat_features)\n",
    "], \n",
    "                       remainder='passthrough',\n",
    "                       verbose_feature_names_out=False)\n",
    "\n",
    "X_trans = ct.fit_transform(X)\n",
    "X_trans\n",
    "\n",
    "# Encode output\n",
    "\n",
    "labEnc = LabelEncoder()\n",
    "y_trans = labEnc.fit_transform(y) # 'e' -> 0, 'p' -> 1\n",
    "label_names = labEnc.classes_\n",
    "\n",
    "# For creating a DataFrame\n",
    "feature_names = ct.get_feature_names_out()\n",
    "X_df = pd.DataFrame(data = X_trans, columns = feature_names)\n",
    "\n",
    "# Train test split\n",
    "X_train, X_test, y_train, y_test = train_test_split(X_df, y_trans, test_size=0.2, random_state=42)\n"
   ]
  },
  {
   "cell_type": "code",
   "execution_count": 50,
   "metadata": {},
   "outputs": [
    {
     "data": {
      "text/plain": [
       "(8124, 105)"
      ]
     },
     "execution_count": 50,
     "metadata": {},
     "output_type": "execute_result"
    }
   ],
   "source": [
    "X_trans.shape"
   ]
  },
  {
   "cell_type": "code",
   "execution_count": 51,
   "metadata": {},
   "outputs": [
    {
     "data": {
      "text/plain": [
       "np.float64(2.782559402207126)"
      ]
     },
     "execution_count": 51,
     "metadata": {},
     "output_type": "execute_result"
    }
   ],
   "source": [
    "# For a logistic regression model\n",
    "\n",
    "# Scaling the data, since we are using multiple features\n",
    "ss = StandardScaler()\n",
    "X_train_scaled = ss.fit_transform(X_train)\n",
    "X_test_scaled = ss.transform(X_test)\n",
    "\n",
    "# Training logistic regression model\n",
    "model_LogReg = LogisticRegressionCV(penalty = 'l2', max_iter = 10000)\n",
    "model_LogReg.fit(X_train_scaled, y_train)\n",
    "\n",
    "# Making predictions\n",
    "# y_pred_train = model_LogReg.predict(X_train_scaled)\n",
    "y_pred_log = model_LogReg.predict(X_test_scaled)\n",
    "\n",
    "y_pred_log_prob = model_LogReg.predict_proba(X_test_scaled)\n",
    "model_LogReg.C_[0] # best value of C (inverse of regularization strength) that LogisticRegressionCV found during its cross-validation"
   ]
  },
  {
   "cell_type": "code",
   "execution_count": 52,
   "metadata": {},
   "outputs": [
    {
     "data": {
      "text/plain": [
       "{'max_depth': 10, 'min_samples_split': 2}"
      ]
     },
     "execution_count": 52,
     "metadata": {},
     "output_type": "execute_result"
    }
   ],
   "source": [
    "# Decision Tree model\n",
    "\n",
    "# what is gridsearchCV doing?\n",
    "# GridSearchCV is a function that searches for the best hyperparameters for a model.\n",
    "\n",
    "tree_params = {\n",
    "    'max_depth': [3, 5, 7, 10],\n",
    "    'min_samples_split': [2, 5, 10]\n",
    "}\n",
    "\n",
    "tree_clf = GridSearchCV(DecisionTreeClassifier(random_state=42), tree_params, cv=5)\n",
    "\n",
    "tree_clf.fit(X_train, y_train)\n",
    "y_pred_tree = tree_clf.predict(X_test)\n",
    "\n",
    "tree_clf.best_params_\n"
   ]
  },
  {
   "cell_type": "code",
   "execution_count": 53,
   "metadata": {},
   "outputs": [
    {
     "data": {
      "text/plain": [
       "{'max_depth': 10, 'min_samples_split': 2, 'n_estimators': 50}"
      ]
     },
     "execution_count": 53,
     "metadata": {},
     "output_type": "execute_result"
    }
   ],
   "source": [
    "# Random Forest using GridSearchCV\n",
    "\n",
    "rf_params = {\n",
    "    'n_estimators': [50, 100],\n",
    "    'max_depth': [5, 10],\n",
    "    'min_samples_split': [2, 5]\n",
    "}\n",
    "\n",
    "rf_clf = GridSearchCV(\n",
    "    estimator=RandomForestClassifier(random_state=42),\n",
    "    param_grid=rf_params,\n",
    "    cv=5\n",
    ")\n",
    "\n",
    "rf_clf.fit(X_train, y_train)\n",
    "y_pred_rf = rf_clf.predict(X_test)\n",
    "rf_clf.best_params_"
   ]
  },
  {
   "cell_type": "code",
   "execution_count": 54,
   "metadata": {},
   "outputs": [
    {
     "data": {
      "image/png": "[encoded data removed]",
      "text/plain": [
       "<Figure size 1296x432 with 6 Axes>"
      ]
     },
     "metadata": {
      "needs_background": "light"
     },
     "output_type": "display_data"
    }
   ],
   "source": [
    "# For Confusion Matrix of all three models\n",
    "\n",
    "fig, ax = plt.subplots(1, 3, figsize=(18, 6))\n",
    "\n",
    "ConfusionMatrixDisplay.from_predictions(y_test, y_pred_log, display_labels=label_names, ax=ax[0])\n",
    "ax[0].set_title(\"Logistic Regression\")\n",
    "\n",
    "ConfusionMatrixDisplay.from_predictions(y_test, y_pred_tree, display_labels=label_names, ax=ax[1])\n",
    "ax[1].set_title(\"Decision Tree\")\n",
    "\n",
    "ConfusionMatrixDisplay.from_predictions(y_test, y_pred_rf, display_labels=label_names, ax=ax[2])\n",
    "ax[2].set_title(\"Random Forest\")\n",
    "\n",
    "plt.tight_layout()\n",
    "plt.show()"
   ]
  },
  {
   "cell_type": "code",
   "execution_count": 34,
   "metadata": {},
   "outputs": [
    {
     "name": "stdout",
     "output_type": "stream",
     "text": [
      "Logistic Regression Metrics:\n",
      "Accuracy: 1.0\n",
      "Recall: 1.0\n",
      "Precision: 1.0\n",
      "\n",
      "Decision Tree Metrics:\n",
      "Accuracy: 1.0\n",
      "Recall: 1.0\n",
      "Precision: 1.0\n",
      "\n",
      "Random Forest Metrics:\n",
      "Accuracy: 1.0\n",
      "Recall: 1.0\n",
      "Precision: 1.0\n",
      "\n"
     ]
    }
   ],
   "source": [
    "# Logistic Regression Metrics\n",
    "print(\"Logistic Regression Metrics:\")\n",
    "print(\"Accuracy:\", accuracy_score(y_test, y_pred_log))\n",
    "print(\"Recall:\", recall_score(y_test, y_pred_log))\n",
    "print(\"Precision:\", precision_score(y_test, y_pred_log))\n",
    "print()\n",
    "\n",
    "# Decision Tree Metrics\n",
    "print(\"Decision Tree Metrics:\")\n",
    "print(\"Accuracy:\", accuracy_score(y_test, y_pred_tree))\n",
    "print(\"Recall:\", recall_score(y_test, y_pred_tree))\n",
    "print(\"Precision:\", precision_score(y_test, y_pred_tree))\n",
    "print()\n",
    "\n",
    "# Random Forest Metrics\n",
    "print(\"Random Forest Metrics:\")\n",
    "print(\"Accuracy:\", accuracy_score(y_test, y_pred_rf))\n",
    "print(\"Recall:\", recall_score(y_test, y_pred_rf))\n",
    "print(\"Precision:\", precision_score(y_test, y_pred_rf))\n",
    "print()"
   ]
  },
  {
   "cell_type": "markdown",
   "metadata": {},
   "source": [
    "### Problem 1 questions\n",
    "\n",
    " - Which model was best?\n",
    " - What were the hyper-parameters of this model.\n",
    " - What were the accuracy, recall, and precision of the model.\n",
    " - Of accuracy, recall, precision, which did you use to decide the best model."
   ]
  },
  {
   "cell_type": "markdown",
   "metadata": {},
   "source": [
    "#### Your responses here:\n",
    "\n",
    "- Which model: All models perform really well\n",
    "- Hyper-parameters: \n",
    "\n",
    "Logistic Regression: Using LogisticRegressionCV with an L2 penalty, the best hyper-parameter found was a C value of approximately 2.78 (i.e., C ≈ 2.78).\n",
    "\n",
    "Decision Tree: The best hyper-parameters found using GridSearchCV were {'max_depth': 10, 'min_samples_split': 2}.\n",
    "\n",
    "Random Forest: The best hyper-parameters found were {'n_estimators': 50, 'max_depth': 10, 'min_samples_split': 2}.\n",
    "- Metrics\n",
    "    - Accuracy: 1.0\n",
    "    - Recall: 1.0\n",
    "    - Precision:1.0\n",
    "- How did you decide best? \n",
    "\n",
    "All three models got perfect scores (1.0) for accuracy, recall, and precision. That means these numbers don't help us pick a winner since they all performed equally well on those metrics."
   ]
  },
  {
   "cell_type": "markdown",
   "metadata": {},
   "source": [
    "## Problem 2\n",
    "\n",
    "The NFL draft is coming up at the end of April. This is when NFL teams get to select college players to join their team. The draft comprises seven rounds over three days (day 1: round 1, day 2: rounds 2 and 3, day 3: rounds 4, 5, 6, 7) with teams taking turns selecting players. Better players tend to go in earlier rounds.\n",
    "\n",
    "In this problem, you will try to predict whether defensive players are drafted on Day 1, 2, or 3 based on their performance in the NFL combine (an assay of physical skills).\n",
    "\n",
    "The data are imported below.\n",
    "\n",
    " - Create a target variable for day 1, day 2, day 3 based on the round drafted.\n",
    " - Create the most accurate predictor you can using any method or subset of the data you choose. *You may not use round as a feature!*\n",
    " - Show the confusion matrix for your model and list the accuracy of your model."
   ]
  },
  {
   "cell_type": "code",
   "execution_count": null,
   "metadata": {},
   "outputs": [],
   "source": [
    "nfl_draft = pd.read_csv('https://raw.githubusercontent.com/eatai/datasets/refs/heads/main/nfl_defensive_draft.csv')\n",
    "\n",
    "for k, col in enumerate(nfl_draft.columns):\n",
    "    print(f'{k:>3}. {col} - {nfl_draft[col].unique()}')\n",
    "\n",
    "# see when the players will be drafted (1,2 or 3)\n",
    "\n",
    "# accuracy is not going to be very high in this one"
   ]
  },
  {
   "cell_type": "code",
   "execution_count": 15,
   "metadata": {},
   "outputs": [
    {
     "name": "stdout",
     "output_type": "stream",
     "text": [
      "Best Parameters: {'max_depth': 10, 'min_samples_split': 3, 'n_estimators': 100}\n",
      "Accuracy: 0.5488069414316703\n",
      "Recall: 0.5488069414316703\n",
      "Precision: 0.5071095508279644\n"
     ]
    }
   ],
   "source": [
    "# For target variable draft_day\n",
    "\n",
    "def assign_draft_day(round):\n",
    "    if round == 1:\n",
    "        return 'Day 1'\n",
    "    elif round in [2, 3]:\n",
    "        return 'Day 2'\n",
    "    elif round in [4, 5, 6, 7]:\n",
    "        return 'Day 3'\n",
    "\n",
    "# for new column draft_day\n",
    "nfl_draft['draft_day'] = nfl_draft['round'].apply(assign_draft_day)\n",
    "\n",
    "# Removing columns that are not needed\n",
    "nfl_df = nfl_draft.drop(columns=['Unnamed: 0', 'round', 'name'])\n",
    "\n",
    "# Selected features\n",
    "# numeric and categorical features\n",
    "numeric_features = ['age', 'height', 'weight', 'forty', 'vertical', 'broad_jump', 'cone', 'shuttle', 'season']\n",
    "categorical_features = ['position', 'college_conference']\n",
    "\n",
    "# Remove rows with missing values\n",
    "#nfl_df = nfl_draft.dropna()\n",
    "\n",
    "# Defining X and y\n",
    "X = nfl_df[numeric_features + categorical_features]\n",
    "y = nfl_df['draft_day']\n",
    "\n",
    "#Encoding target variable\n",
    "labEnc = LabelEncoder()\n",
    "y_trans= labEnc.fit_transform(y)\n",
    "label_names = labEnc.classes_\n",
    "\n",
    "ct_nfl = ColumnTransformer(\n",
    "    transformers=[\n",
    "        ('num', 'passthrough', numeric_features),\n",
    "        ('cat', OneHotEncoder(sparse_output=False), categorical_features)\n",
    "    ],\n",
    "    remainder='passthrough',\n",
    "    verbose_feature_names_out=False\n",
    ")\n",
    "\n",
    "\n",
    "# Transform the features\n",
    "X_trans = ct_nfl.fit_transform(X)\n",
    "\n",
    "# Split, train and test\n",
    "\n",
    "X_train, X_test, y_train, y_test = train_test_split(X_trans, y_trans, test_size=0.2, random_state=42)\n",
    "\n",
    "rf_params = {\n",
    "    'n_estimators': [80, 100],\n",
    "    'max_depth': [8,9, 10],\n",
    "    'min_samples_split': [3, 7]\n",
    "}\n",
    "\n",
    "rf_clf = GridSearchCV(RandomForestClassifier(random_state=42), param_grid=rf_params, cv=5, n_jobs=-1)\n",
    "rf_clf.fit(X_train, y_train)\n",
    "y_pred = rf_clf.predict(X_test)\n",
    "\n",
    "# Checking the best parameters\n",
    "print(\"Best Parameters:\", rf_clf.best_params_)\n",
    "print(\"Accuracy:\", accuracy_score(y_test, y_pred))\n",
    "print(\"Recall:\", recall_score(y_test, y_pred, average='weighted'))\n",
    "print(\"Precision:\", precision_score(y_test, y_pred, average='weighted'))\n"
   ]
  },
  {
   "cell_type": "code",
   "execution_count": null,
   "metadata": {},
   "outputs": [],
   "source": [
    "nfl_df['cone'].unique()"
   ]
  },
  {
   "cell_type": "code",
   "execution_count": 22,
   "metadata": {},
   "outputs": [
    {
     "data": {
      "image/png": "[encoded data removed]",
      "text/plain": [
       "<Figure size 1008x432 with 4 Axes>"
      ]
     },
     "metadata": {
      "needs_background": "light"
     },
     "output_type": "display_data"
    }
   ],
   "source": [
    "# Compute predictions for training data\n",
    "y_train_pred = rf_clf.predict(X_train)\n",
    "\n",
    "# Create subplots: one for training, one for testing\n",
    "fig, ax = plt.subplots(1, 2, figsize=(14, 6), sharey=True)\n",
    "\n",
    "# Training confusion matrix\n",
    "ConfusionMatrixDisplay.from_predictions(y_train, y_train_pred, display_labels=label_names, ax=ax[0], cmap='Blues')\n",
    "ax[0].set_title(\"Random Forest Training Confusion Matrix\")\n",
    "\n",
    "# Testing confusion matrix\n",
    "ConfusionMatrixDisplay.from_predictions(y_test, y_pred, display_labels=label_names, ax=ax[1], cmap='Blues')\n",
    "ax[1].set_title(\"Random Forest Test Confusion Matrix\")\n",
    "\n",
    "plt.tight_layout()\n",
    "plt.show()\n"
   ]
  },
  {
   "cell_type": "markdown",
   "metadata": {},
   "source": [
    "### Problem 2 Questions\n",
    "\n",
    " - Which kind of model did you use and why did you choose it?\n",
    "\n",
    "I used a Random Forest model because it handles both numeric and categorical data well and can capture complex, non-linear relationships without extensive feature engineering. Random Forests build many decision trees using random subsets of features and training data, which reduces overfitting and increases robustness. Given the complexity of how players' combine performances relate to their draft day, this approach proved more flexible than simpler models like logistic regression. \n",
    "\n",
    " - What was your accuracy?\n",
    "\n",
    "After tuning with GridSearchCV, the best parameters were a max_depth of 10, min_samples_split of 3, and 100 estimators, achieving around 55% accuracy on the test set."
   ]
  }
 ],
 "metadata": {
  "kernelspec": {
   "display_name": "base",
   "language": "python",
   "name": "python3"
  },
  "language_info": {
   "codemirror_mode": {
    "name": "ipython",
    "version": 3
   },
   "file_extension": ".py",
   "mimetype": "text/x-python",
   "name": "python",
   "nbconvert_exporter": "python",
   "pygments_lexer": "ipython3",
   "version": "3.9.19"
  },
  "orig_nbformat": 4
 },
 "nbformat": 4,
 "nbformat_minor": 2
}
